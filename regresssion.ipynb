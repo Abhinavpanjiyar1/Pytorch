{
  "nbformat": 4,
  "nbformat_minor": 0,
  "metadata": {
    "colab": {
      "provenance": [],
      "authorship_tag": "ABX9TyPnkhGizJsCIXgt7srIdCzt",
      "include_colab_link": true
    },
    "kernelspec": {
      "name": "python3",
      "display_name": "Python 3"
    },
    "language_info": {
      "name": "python"
    }
  },
  "cells": [
    {
      "cell_type": "markdown",
      "metadata": {
        "id": "view-in-github",
        "colab_type": "text"
      },
      "source": [
        "<a href=\"https://colab.research.google.com/github/Abhinavpanjiyar1/Pytorch/blob/main/regresssion.ipynb\" target=\"_parent\"><img src=\"https://colab.research.google.com/assets/colab-badge.svg\" alt=\"Open In Colab\"/></a>"
      ]
    },
    {
      "cell_type": "code",
      "source": [
        "import torch\n",
        "import torch.nn as nn\n",
        "import numpy as np\n",
        "import matplotlib.pyplot as plt"
      ],
      "metadata": {
        "id": "NXb8s1zWzzA6"
      },
      "execution_count": 17,
      "outputs": []
    },
    {
      "cell_type": "code",
      "source": [
        "N = 20\n",
        "X = np.random.random(N)* 10-5\n",
        "Y =  0.5*X -1 + np.random.randn(N)\n"
      ],
      "metadata": {
        "id": "b9igofe0zzI1"
      },
      "execution_count": 18,
      "outputs": []
    },
    {
      "cell_type": "code",
      "source": [
        "plt.scatter(X, Y)"
      ],
      "metadata": {
        "colab": {
          "base_uri": "https://localhost:8080/",
          "height": 447
        },
        "id": "pAQ2h7bb08D5",
        "outputId": "954dd029-c125-480e-e6f2-26ec681b233b"
      },
      "execution_count": 19,
      "outputs": [
        {
          "output_type": "execute_result",
          "data": {
            "text/plain": [
              "<matplotlib.collections.PathCollection at 0x7f607042b970>"
            ]
          },
          "metadata": {},
          "execution_count": 19
        },
        {
          "output_type": "display_data",
          "data": {
            "text/plain": [
              "<Figure size 640x480 with 1 Axes>"
            ],
            "image/png": "[encoded data removed]"
          },
          "metadata": {}
        }
      ]
    },
    {
      "cell_type": "markdown",
      "source": [
        "# CREATE the Linear regression model"
      ],
      "metadata": {
        "id": "HoKwLW5S1E_r"
      }
    },
    {
      "cell_type": "code",
      "source": [
        "model = nn.Linear(1, 1)"
      ],
      "metadata": {
        "id": "d9IARQxZ1BMh"
      },
      "execution_count": 20,
      "outputs": []
    },
    {
      "cell_type": "code",
      "source": [
        "# loss and optimizer\n",
        "\n",
        "criterion = nn.MSELoss()\n",
        "optimizer = torch.optim.SGD(model.parameters(), lr =0.1)"
      ],
      "metadata": {
        "id": "kuGxHllF1BJ6"
      },
      "execution_count": 21,
      "outputs": []
    },
    {
      "cell_type": "code",
      "source": [
        "#Shape of the data\n",
        "\n",
        "X= X.reshape(N, 1)\n",
        "Y = Y.reshape(N, 1)\n",
        "\n",
        "inputs = torch.from_numpy(X.astype(np.float32))\n",
        "targets = torch.from_numpy(Y.astype(np.float32))\n"
      ],
      "metadata": {
        "id": "SNV_siN51BIK"
      },
      "execution_count": 22,
      "outputs": []
    },
    {
      "cell_type": "code",
      "source": [
        "type(inputs)"
      ],
      "metadata": {
        "colab": {
          "base_uri": "https://localhost:8080/"
        },
        "id": "62tfNPb81BFl",
        "outputId": "48da1748-59b9-4153-8d1f-70fbb0843bc3"
      },
      "execution_count": 23,
      "outputs": [
        {
          "output_type": "execute_result",
          "data": {
            "text/plain": [
              "torch.Tensor"
            ]
          },
          "metadata": {},
          "execution_count": 23
        }
      ]
    },
    {
      "cell_type": "markdown",
      "source": [
        "#train the model"
      ],
      "metadata": {
        "id": "EGJyfufF2aVZ"
      }
    },
    {
      "cell_type": "code",
      "source": [
        "n_epochs = 30\n",
        "losses = []\n",
        "for it in range(n_epochs):\n",
        "  #zero the parameter gradient\n",
        "  optimizer.zero_grad()\n",
        "\n",
        "  # forward pass\n",
        "  outputs = model(inputs)\n",
        "  loss = criterion(outputs, targets)\n",
        "\n",
        "  #keep the loss\n",
        "  losses.append(loss.item())\n",
        "\n",
        "   #backward and optimize\n",
        "  loss.backward()\n",
        "  optimizer.step()\n",
        "\n",
        "  print(f'epochs {it + 1}/ {n_epochs} , Loss: {loss.item(): .4f}')\n"
      ],
      "metadata": {
        "colab": {
          "base_uri": "https://localhost:8080/"
        },
        "id": "3SWm9EkU1BBD",
        "outputId": "62944603-50a6-4148-fef0-ca97c7279e53"
      },
      "execution_count": 24,
      "outputs": [
        {
          "output_type": "stream",
          "name": "stdout",
          "text": [
            "epochs 1/ 30 , Loss:  1.5325\n",
            "epochs 2/ 30 , Loss:  1.3056\n",
            "epochs 3/ 30 , Loss:  1.1501\n",
            "epochs 4/ 30 , Loss:  1.0415\n",
            "epochs 5/ 30 , Loss:  0.9651\n",
            "epochs 6/ 30 , Loss:  0.9109\n",
            "epochs 7/ 30 , Loss:  0.8726\n",
            "epochs 8/ 30 , Loss:  0.8453\n",
            "epochs 9/ 30 , Loss:  0.8260\n",
            "epochs 10/ 30 , Loss:  0.8122\n",
            "epochs 11/ 30 , Loss:  0.8025\n",
            "epochs 12/ 30 , Loss:  0.7955\n",
            "epochs 13/ 30 , Loss:  0.7906\n",
            "epochs 14/ 30 , Loss:  0.7871\n",
            "epochs 15/ 30 , Loss:  0.7846\n",
            "epochs 16/ 30 , Loss:  0.7828\n",
            "epochs 17/ 30 , Loss:  0.7816\n",
            "epochs 18/ 30 , Loss:  0.7807\n",
            "epochs 19/ 30 , Loss:  0.7800\n",
            "epochs 20/ 30 , Loss:  0.7796\n",
            "epochs 21/ 30 , Loss:  0.7793\n",
            "epochs 22/ 30 , Loss:  0.7790\n",
            "epochs 23/ 30 , Loss:  0.7789\n",
            "epochs 24/ 30 , Loss:  0.7788\n",
            "epochs 25/ 30 , Loss:  0.7787\n",
            "epochs 26/ 30 , Loss:  0.7786\n",
            "epochs 27/ 30 , Loss:  0.7786\n",
            "epochs 28/ 30 , Loss:  0.7786\n",
            "epochs 29/ 30 , Loss:  0.7785\n",
            "epochs 30/ 30 , Loss:  0.7785\n"
          ]
        }
      ]
    },
    {
      "cell_type": "code",
      "source": [
        "plt.plot(losses)"
      ],
      "metadata": {
        "colab": {
          "base_uri": "https://localhost:8080/",
          "height": 447
        },
        "id": "YzUMRInA1A9q",
        "outputId": "35d28ab1-0c7a-4733-d1fe-a8d2f19bca42"
      },
      "execution_count": 26,
      "outputs": [
        {
          "output_type": "execute_result",
          "data": {
            "text/plain": [
              "[<matplotlib.lines.Line2D at 0x7f60703deb00>]"
            ]
          },
          "metadata": {},
          "execution_count": 26
        },
        {
          "output_type": "display_data",
          "data": {
            "text/plain": [
              "<Figure size 640x480 with 1 Axes>"
            ],
            "image/png": "[encoded data removed]"
          },
          "metadata": {}
        }
      ]
    },
    {
      "cell_type": "markdown",
      "source": [
        "# PLot the graph"
      ],
      "metadata": {
        "id": "DM3BwZaA5KS4"
      }
    },
    {
      "cell_type": "code",
      "source": [
        "predicted = model(inputs).detach().numpy()\n",
        "plt.scatter(X, Y, label = 'original date')\n",
        "plt.plot(X, predicted , label = 'fitted line')\n",
        "plt.legend()\n",
        "plt.show()"
      ],
      "metadata": {
        "colab": {
          "base_uri": "https://localhost:8080/",
          "height": 430
        },
        "id": "2ZxOiaI-5Mwo",
        "outputId": "8ac0d841-1629-4b9c-f9a0-15ead6db8041"
      },
      "execution_count": 27,
      "outputs": [
        {
          "output_type": "display_data",
          "data": {
            "text/plain": [
              "<Figure size 640x480 with 1 Axes>"
            ],
            "image/png": "[encoded data removed]"
          },
          "metadata": {}
        }
      ]
    },
    {
      "cell_type": "markdown",
      "source": [
        "#efficiency of our model"
      ],
      "metadata": {
        "id": "40_qmHK_5yws"
      }
    },
    {
      "cell_type": "code",
      "source": [
        "w= model.weight.data.numpy()\n",
        "b = model.bias.data.numpy()\n",
        "print(w,b)\n"
      ],
      "metadata": {
        "colab": {
          "base_uri": "https://localhost:8080/"
        },
        "id": "r8Qy9puH509Q",
        "outputId": "573e4682-ec59-4b85-fa99-304fe1cc14ea"
      },
      "execution_count": 28,
      "outputs": [
        {
          "output_type": "stream",
          "name": "stdout",
          "text": [
            "[[0.4557063]] [-0.84265494]\n"
          ]
        }
      ]
    }
  ]
}
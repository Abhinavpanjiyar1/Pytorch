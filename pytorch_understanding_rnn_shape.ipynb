{
  "nbformat": 4,
  "nbformat_minor": 0,
  "metadata": {
    "colab": {
      "provenance": [],
      "authorship_tag": "ABX9TyM375bvXbrw6vFlukklw2ri",
      "include_colab_link": true
    },
    "kernelspec": {
      "name": "python3",
      "display_name": "Python 3"
    },
    "language_info": {
      "name": "python"
    }
  },
  "cells": [
    {
      "cell_type": "markdown",
      "metadata": {
        "id": "view-in-github",
        "colab_type": "text"
      },
      "source": [
        "<a href=\"https://colab.research.google.com/github/Abhinavpanjiyar1/Pytorch/blob/main/pytorch_understanding_rnn_shape.ipynb\" target=\"_parent\"><img src=\"https://colab.research.google.com/assets/colab-badge.svg\" alt=\"Open In Colab\"/></a>"
      ]
    },
    {
      "cell_type": "code",
      "execution_count": 1,
      "metadata": {
        "id": "ZG92b45MJer_"
      },
      "outputs": [],
      "source": [
        "import torch\n",
        "import torch.nn as nn\n",
        "import numpy as np\n",
        "import matplotlib.pyplot as plt"
      ]
    },
    {
      "cell_type": "markdown",
      "source": [
        "# N = no. of samples\n",
        "T = sequence of length\n",
        "D =  number of input features\n",
        "M = number of hiddent units\n",
        "K = number of output units\n"
      ],
      "metadata": {
        "id": "Mg1i4izfLHYl"
      }
    },
    {
      "cell_type": "code",
      "source": [
        "# make some data\n",
        "N = 1\n",
        "T =10\n",
        "D = 3\n",
        "M = 5\n",
        "K = 2\n",
        "X = np.random.randn(N, T, D)\n",
        "\n"
      ],
      "metadata": {
        "id": "9948sSoGKv8d"
      },
      "execution_count": 2,
      "outputs": []
    },
    {
      "cell_type": "code",
      "source": [
        "#  make an rnn\n",
        "class SimpleRNN(nn.Module):\n",
        "  def __init__(self, n_inputs, n_hidden, n_outputs):\n",
        "    super().__init__()\n",
        "    self.D =n_inputs\n",
        "    self.M =n_hidden\n",
        "    self.K =n_outputs\n",
        "    self.rnn = nn.RNN(input_size =self.D,\n",
        "                      hidden_size =self.M,\n",
        "                      nonlinearity ='tanh',\n",
        "                      batch_first =True)\n",
        "    self.fc =nn.Linear(self.M, self.K)\n",
        "\n",
        "  def forward(self, X):\n",
        "    # initiate hidden state\n",
        "    h0 = torch.zeros(1, X.size(0), self.M)\n",
        "\n",
        "    # get rnn unit output\n",
        "    out,_ = self.rnn(X,h0)\n",
        "\n",
        "    # we only want h(T) at final time step\n",
        "    out =self.fc(out)\n",
        "    return out\n",
        "\n",
        "\n"
      ],
      "metadata": {
        "id": "tTVVEUNXKv5x"
      },
      "execution_count": 6,
      "outputs": []
    },
    {
      "cell_type": "code",
      "source": [
        "#instantiate the model\n",
        "model =SimpleRNN(n_inputs =D, n_hidden = M, n_outputs = K)"
      ],
      "metadata": {
        "id": "bnAt7OIUKv3m"
      },
      "execution_count": 7,
      "outputs": []
    },
    {
      "cell_type": "code",
      "source": [
        "inputs = torch.from_numpy(X.astype(np.float32))\n",
        "out = model(inputs)\n",
        "out"
      ],
      "metadata": {
        "colab": {
          "base_uri": "https://localhost:8080/"
        },
        "id": "Ubr0TwdiKv1e",
        "outputId": "706bf99e-97d0-4f89-f392-52b73d10e5e4"
      },
      "execution_count": 8,
      "outputs": [
        {
          "output_type": "execute_result",
          "data": {
            "text/plain": [
              "tensor([[[ 0.4804, -0.1704],\n",
              "         [ 1.0260, -0.5907],\n",
              "         [ 0.5872,  0.1412],\n",
              "         [ 0.9235, -0.3137],\n",
              "         [ 0.8062, -0.3233],\n",
              "         [ 1.0268, -0.4661],\n",
              "         [ 0.8037, -0.3812],\n",
              "         [ 0.5748, -0.0902],\n",
              "         [ 0.5966, -0.2572],\n",
              "         [ 0.8854, -0.2608]]], grad_fn=<ViewBackward0>)"
            ]
          },
          "metadata": {},
          "execution_count": 8
        }
      ]
    },
    {
      "cell_type": "code",
      "source": [
        "out.shape"
      ],
      "metadata": {
        "colab": {
          "base_uri": "https://localhost:8080/"
        },
        "id": "OCPyZVX_Kvzq",
        "outputId": "d6e909ac-28ae-4d69-9c93-8fb4d6010b86"
      },
      "execution_count": 9,
      "outputs": [
        {
          "output_type": "execute_result",
          "data": {
            "text/plain": [
              "torch.Size([1, 10, 2])"
            ]
          },
          "metadata": {},
          "execution_count": 9
        }
      ]
    },
    {
      "cell_type": "code",
      "source": [
        "Yhats_torch =out.detach().numpy()"
      ],
      "metadata": {
        "id": "msJDeESWKvwd"
      },
      "execution_count": 10,
      "outputs": []
    },
    {
      "cell_type": "code",
      "source": [
        "W_xh, W_hh, b_xh, b_hh =model.rnn.parameters()"
      ],
      "metadata": {
        "id": "ceNmQzlBKvu7"
      },
      "execution_count": 11,
      "outputs": []
    },
    {
      "cell_type": "code",
      "source": [
        "W_xh.shape"
      ],
      "metadata": {
        "colab": {
          "base_uri": "https://localhost:8080/"
        },
        "id": "YomaKWDMKvsv",
        "outputId": "9f77f32b-c792-4559-da86-94611fb13b5e"
      },
      "execution_count": 12,
      "outputs": [
        {
          "output_type": "execute_result",
          "data": {
            "text/plain": [
              "torch.Size([5, 3])"
            ]
          },
          "metadata": {},
          "execution_count": 12
        }
      ]
    },
    {
      "cell_type": "code",
      "source": [
        "W_xh"
      ],
      "metadata": {
        "colab": {
          "base_uri": "https://localhost:8080/"
        },
        "id": "WZ01nkmoKvqR",
        "outputId": "e0ccead1-6cc9-4684-df02-92e579d42e1d"
      },
      "execution_count": 13,
      "outputs": [
        {
          "output_type": "execute_result",
          "data": {
            "text/plain": [
              "Parameter containing:\n",
              "tensor([[ 0.1126, -0.1347, -0.3630],\n",
              "        [-0.3188, -0.2909,  0.2552],\n",
              "        [ 0.1780,  0.3703,  0.1422],\n",
              "        [-0.3138,  0.2415,  0.2166],\n",
              "        [ 0.3425,  0.1999,  0.2666]], requires_grad=True)"
            ]
          },
          "metadata": {},
          "execution_count": 13
        }
      ]
    },
    {
      "cell_type": "code",
      "source": [
        "W_xh = W_xh.data.numpy()\n",
        "W_xh"
      ],
      "metadata": {
        "colab": {
          "base_uri": "https://localhost:8080/"
        },
        "id": "XcI3_B23Kvof",
        "outputId": "86cccbe4-0fe8-4ca1-859f-50ceab742ebd"
      },
      "execution_count": 14,
      "outputs": [
        {
          "output_type": "execute_result",
          "data": {
            "text/plain": [
              "array([[ 0.11258831, -0.13471636, -0.36301553],\n",
              "       [-0.31879443, -0.29085723,  0.25516286],\n",
              "       [ 0.17795551,  0.3703343 ,  0.14219472],\n",
              "       [-0.31384736,  0.24150087,  0.21657857],\n",
              "       [ 0.34251556,  0.19994484,  0.2665565 ]], dtype=float32)"
            ]
          },
          "metadata": {},
          "execution_count": 14
        }
      ]
    },
    {
      "cell_type": "code",
      "source": [
        "W_hh =W_hh.data.numpy()\n",
        "b_xh = b_xh.data.numpy()\n",
        "b_hh = b_hh.data.numpy()"
      ],
      "metadata": {
        "id": "wic8MeZ7edzg"
      },
      "execution_count": 15,
      "outputs": []
    },
    {
      "cell_type": "code",
      "source": [
        "W_xh.shape, W_hh.shape, b_xh.shape, b_hh.shape"
      ],
      "metadata": {
        "colab": {
          "base_uri": "https://localhost:8080/"
        },
        "id": "2GJZ9lDgedww",
        "outputId": "cdd44765-ce91-4a97-b124-30645e3c1959"
      },
      "execution_count": 16,
      "outputs": [
        {
          "output_type": "execute_result",
          "data": {
            "text/plain": [
              "((5, 3), (5, 5), (5,), (5,))"
            ]
          },
          "metadata": {},
          "execution_count": 16
        }
      ]
    },
    {
      "cell_type": "code",
      "source": [
        "#now get the fc layer weights\n",
        "Wo, bo = model.fc.parameters()"
      ],
      "metadata": {
        "id": "QrK2EPHyeduC"
      },
      "execution_count": 17,
      "outputs": []
    },
    {
      "cell_type": "code",
      "source": [
        "Wo =Wo.data.numpy()\n",
        "bo =bo.data.numpy()\n",
        "Wo.shape, bo.shape"
      ],
      "metadata": {
        "colab": {
          "base_uri": "https://localhost:8080/"
        },
        "id": "VWqa-DoOedrf",
        "outputId": "7991f050-88e5-45a7-d86a-9952bd256e26"
      },
      "execution_count": 18,
      "outputs": [
        {
          "output_type": "execute_result",
          "data": {
            "text/plain": [
              "((2, 5), (2,))"
            ]
          },
          "metadata": {},
          "execution_count": 18
        }
      ]
    },
    {
      "cell_type": "code",
      "source": [
        "# see if we can replicate the outputs\n",
        "h_last = np.zeros(M)\n",
        "x =X[0]\n",
        "Yhats = np.zeros((T, K))\n",
        "\n",
        "for t in range (T):\n",
        "  h =np.tanh(x[t].dot(W_xh.T)+ b_xh + h_last.dot(W_hh.T) + b_hh)\n",
        "  y= h.dot(Wo.T) + bo\n",
        "  Yhats[t] = y\n",
        "\n",
        "  h_last = h\n",
        "\n",
        "print(Yhats)"
      ],
      "metadata": {
        "colab": {
          "base_uri": "https://localhost:8080/"
        },
        "id": "OEMien6zedn3",
        "outputId": "09442ded-d83e-4d91-ffc0-aa55d2e386d9"
      },
      "execution_count": 19,
      "outputs": [
        {
          "output_type": "stream",
          "name": "stdout",
          "text": [
            "[[ 0.48035506 -0.17040623]\n",
            " [ 1.02595769 -0.59066244]\n",
            " [ 0.58717667  0.14118948]\n",
            " [ 0.92349178 -0.31367282]\n",
            " [ 0.8062125  -0.32325623]\n",
            " [ 1.02682367 -0.46612537]\n",
            " [ 0.80365103 -0.38117828]\n",
            " [ 0.57484243 -0.09020649]\n",
            " [ 0.59660838 -0.25716497]\n",
            " [ 0.88540699 -0.26084363]]\n"
          ]
        }
      ]
    },
    {
      "cell_type": "code",
      "source": [
        "#check\n",
        "np.allclose(Yhats, Yhats_torch)"
      ],
      "metadata": {
        "colab": {
          "base_uri": "https://localhost:8080/"
        },
        "id": "kC6u_ZBVKvlW",
        "outputId": "605eacf3-a0c7-427b-e7d1-bb417274dc43"
      },
      "execution_count": 20,
      "outputs": [
        {
          "output_type": "execute_result",
          "data": {
            "text/plain": [
              "True"
            ]
          },
          "metadata": {},
          "execution_count": 20
        }
      ]
    }
  ]
}